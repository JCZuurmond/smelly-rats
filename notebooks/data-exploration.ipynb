{
 "cells": [
  {
   "cell_type": "code",
   "execution_count": null,
   "metadata": {},
   "outputs": [],
   "source": [
    "%matplotlib inline\n",
    "%load_ext autoreload\n",
    "%autoreload 2"
   ]
  },
  {
   "cell_type": "code",
   "execution_count": null,
   "metadata": {},
   "outputs": [],
   "source": [
    "import numpy as np\n",
    "import pandas as pd\n",
    "from matplotlib import pyplot as plt\n",
    "\n",
    "import smelly_rats"
   ]
  },
  {
   "cell_type": "markdown",
   "metadata": {},
   "source": [
    "# Loading the data"
   ]
  },
  {
   "cell_type": "code",
   "execution_count": null,
   "metadata": {},
   "outputs": [],
   "source": [
    "xl = pd.ExcelFile('../data/onions.xls')"
   ]
  },
  {
   "cell_type": "markdown",
   "metadata": {},
   "source": [
    "## HNMR spectra"
   ]
  },
  {
   "cell_type": "code",
   "execution_count": null,
   "metadata": {},
   "outputs": [],
   "source": [
    "hnmr_spectra = (\n",
    "    pd.read_excel(xl, sheet_name=0, index_col=0)\n",
    "    .rename(columns=lambda col: col.replace(\"'\", \"\"))\n",
    ")\n",
    "print('HNMR spectra shape:', hnmr_spectra.shape)\n",
    "hnmr_spectra.head()"
   ]
  },
  {
   "cell_type": "markdown",
   "metadata": {},
   "source": [
    "**Spectra range**"
   ]
  },
  {
   "cell_type": "code",
   "execution_count": null,
   "metadata": {},
   "outputs": [],
   "source": [
    "print('Spectra is ranging from (ppm)')\n",
    "hnmr_spectra.index.min(), hnmr_spectra.index.max()"
   ]
  },
  {
   "cell_type": "markdown",
   "metadata": {},
   "source": [
    "As set in the paper the values of the spectra between 5 and 4.50 ppm are removed. Approximately, it is actually `5.027118` to `4.598711`."
   ]
  },
  {
   "cell_type": "code",
   "execution_count": null,
   "metadata": {},
   "outputs": [],
   "source": [
    "hnmr_spectra[5.03:5]"
   ]
  },
  {
   "cell_type": "code",
   "execution_count": null,
   "metadata": {},
   "outputs": [],
   "source": [
    "hnmr_spectra[5:4.5]"
   ]
  },
  {
   "cell_type": "markdown",
   "metadata": {},
   "source": [
    "**Columns**"
   ]
  },
  {
   "cell_type": "code",
   "execution_count": null,
   "metadata": {},
   "outputs": [],
   "source": [
    "print(f'There are {len(hnmr_spectra.columns)} columns')\n",
    "hnmr_spectra.columns"
   ]
  },
  {
   "cell_type": "code",
   "execution_count": null,
   "metadata": {},
   "outputs": [],
   "source": [
    "hnmr_spectra.plot(y='H2-12-')"
   ]
  },
  {
   "cell_type": "markdown",
   "metadata": {},
   "source": [
    "**The following columns are duplicates, but the values (of the column) are not duplicates.**"
   ]
  },
  {
   "cell_type": "code",
   "execution_count": null,
   "metadata": {
    "scrolled": true
   },
   "outputs": [],
   "source": [
    "double_columns = [col for col in hnmr_spectra.columns if col.startswith(\"H4-28\")]\n",
    "print(double_columns)\n",
    "# [list(hnmr_spectra.columns).index(c) for c in double_columns]\n",
    "hnmr_spectra[double_columns]"
   ]
  },
  {
   "cell_type": "markdown",
   "metadata": {},
   "source": [
    "**Column groups**"
   ]
  },
  {
   "cell_type": "code",
   "execution_count": null,
   "metadata": {},
   "outputs": [],
   "source": [
    "from pprint import pprint\n",
    "groups = (1, 2, 3, 4)\n",
    "group_cols = {\n",
    "    group: [c for c in hnmr_spectra.columns if c.startswith(f'H{group}')]\n",
    "    for group in groups\n",
    "}\n",
    "pprint(group_cols)"
   ]
  },
  {
   "cell_type": "markdown",
   "metadata": {},
   "source": [
    "Reproducing fig 2 of paper"
   ]
  },
  {
   "cell_type": "code",
   "execution_count": null,
   "metadata": {},
   "outputs": [],
   "source": [
    "fig, axes = plt.subplots(len(groups), 2, figsize=(10, 8))\n",
    "\n",
    "for idx, group in enumerate(groups):\n",
    "    ax = axes[idx, 0]\n",
    "    hnmr_spectra[group_cols[group]].mean(axis=1).plot(ax=ax, label='')\n",
    "    ax.set_ylim([0, 50_000])\n",
    "    ax.set_xlim([9, 0])\n",
    "    ax.set_title(f'Group {group}')\n",
    "    \n",
    "    ax = axes[idx, 1]\n",
    "    hnmr_spectra[group_cols[group]].mean(axis=1).plot(ax=ax, label='')\n",
    "    ax.set_title(f'Group {group}')\n",
    "    ax.set_ylim([0, 7500])\n",
    "    ax.set_xlim([9.5, 6])\n",
    "    \n",
    "fig.legend(loc=\"center right\", borderaxespad=0.1)\n",
    "fig.tight_layout()"
   ]
  },
  {
   "cell_type": "markdown",
   "metadata": {},
   "source": [
    "## Loading the target (i.e. onion% groups)"
   ]
  },
  {
   "cell_type": "code",
   "execution_count": null,
   "metadata": {},
   "outputs": [],
   "source": [
    "target = pd.read_excel(xl, sheet_name=1, usecols=range(10, 15))\n",
    "print(target.shape)\n",
    "target.head()"
   ]
  },
  {
   "cell_type": "markdown",
   "metadata": {},
   "source": [
    "# Pareto scaling"
   ]
  },
  {
   "cell_type": "code",
   "execution_count": null,
   "metadata": {},
   "outputs": [],
   "source": [
    "from smelly_rats import preproccessing"
   ]
  },
  {
   "cell_type": "code",
   "execution_count": null,
   "metadata": {},
   "outputs": [],
   "source": [
    "hnmr_spectra_scaled = (\n",
    "    hnmr_spectra\n",
    "    .apply(preproccessing.pareto_scaling)\n",
    ")"
   ]
  },
  {
   "cell_type": "code",
   "execution_count": null,
   "metadata": {},
   "outputs": [],
   "source": [
    "fig, axes = plt.subplots(len(groups), 2, figsize=(10, 8))\n",
    "\n",
    "for idx, group in enumerate(groups):\n",
    "    ax = axes[idx, 0]\n",
    "    hnmr_spectra_scaled[group_cols[group]].mean(axis=1).plot(ax=ax, label='')\n",
    "    ax.set_ylim([0, 500])\n",
    "    ax.set_xlim([9, 0])\n",
    "    ax.set_title(f'Group {group}')\n",
    "    \n",
    "    ax = axes[idx, 1]\n",
    "    hnmr_spectra_scaled[group_cols[group]].mean(axis=1).plot(ax=ax, label='')\n",
    "    ax.set_title(f'Group {group}')\n",
    "    ax.set_ylim([0, 500])\n",
    "    ax.set_xlim([9.5, 6])\n",
    "    \n",
    "fig.legend(loc=\"center right\", borderaxespad=0.1)\n",
    "fig.tight_layout()"
   ]
  },
  {
   "cell_type": "markdown",
   "metadata": {},
   "source": [
    "# Applying different dimentionality reduction techniques"
   ]
  },
  {
   "cell_type": "code",
   "execution_count": null,
   "metadata": {},
   "outputs": [],
   "source": [
    "import numpy as np\n",
    "from sklearn.cross_decomposition import PLSCanonical, PLSRegression, CCA\n",
    "from sklearn.decomposition import PCA"
   ]
  },
  {
   "cell_type": "code",
   "execution_count": null,
   "metadata": {
    "scrolled": false
   },
   "outputs": [],
   "source": [
    "for reducer in PCA, PLSCanonical, PLSRegression, CCA:\n",
    "    red = reducer(n_components=2)\n",
    "    transformed = red.fit_transform(hnmr_spectra_scaled.T, target['y'])\n",
    "    try: \n",
    "        hnmr_spectra_reduced, _ = transformed\n",
    "    except ValueError:\n",
    "        hnmr_spectra_reduced = transformed\n",
    "\n",
    "    fig, ax = plt.subplots(figsize=(10, 8))\n",
    "\n",
    "    symbols = ['s', 'o', '*', '<']\n",
    "    for idx, cat in enumerate(sorted(target['y'].unique())):\n",
    "        mask = target['y'] == cat\n",
    "        x_values = hnmr_spectra_reduced[mask, 0]\n",
    "        y_values = hnmr_spectra_reduced[mask, 1]\n",
    "        ax.plot(x_values, y_values, symbols[idx], label=cat, ms=10)\n",
    "\n",
    "        ax.axhline(0, linestyle='--', color='gray', alpha=0.2)\n",
    "        ax.axvline(0, linestyle='--', color='gray', alpha=0.2)\n",
    "\n",
    "        x_max = np.abs(x_values).max()\n",
    "        ax.set_xlim([-x_max, x_max])\n",
    "        y_max = np.abs(y_values).max()\n",
    "        ax.set_ylim([-y_max, y_max])\n",
    "        \n",
    "    ax.set_title(reducer.__name__)\n",
    "    fig.legend(loc=\"center right\", borderaxespad=0.1)\n",
    "    fig.tight_layout()"
   ]
  },
  {
   "cell_type": "markdown",
   "metadata": {},
   "source": [
    "# Classification on reduced data\n",
    "\n",
    "Only using the 2 components here. (Will probably not be accurate judging from the figures above.)"
   ]
  },
  {
   "cell_type": "code",
   "execution_count": null,
   "metadata": {},
   "outputs": [],
   "source": [
    "red = PCA(n_components=2)\n",
    "hnmr_spectra_reduced = red.fit_transform(hnmr_spectra_scaled.T, target['y'])"
   ]
  },
  {
   "cell_type": "code",
   "execution_count": null,
   "metadata": {},
   "outputs": [],
   "source": [
    "from sklearn import linear_model\n",
    "from sklearn.model_selection import cross_val_score\n",
    "\n",
    "reg = linear_model.Lasso(alpha=0.1)\n",
    "\n",
    "scores = cross_val_score(\n",
    "    reg, \n",
    "    hnmr_spectra_reduced,\n",
    "    target['y'], \n",
    "    cv=5\n",
    ")\n",
    "scores"
   ]
  },
  {
   "cell_type": "code",
   "execution_count": null,
   "metadata": {},
   "outputs": [],
   "source": [
    "from sklearn.linear_model import LogisticRegression\n",
    "\n",
    "\n",
    "\n",
    "reg = LogisticRegression(\n",
    "    penalty='l1', \n",
    "    solver='saga', \n",
    "    multi_class='multinomial', \n",
    "    C=1e-10, \n",
    "#     max_iter=1000\n",
    ")\n",
    "\n",
    "scores = cross_val_score(\n",
    "    reg, \n",
    "    hnmr_spectra_reduced, \n",
    "    target['y'], \n",
    "    cv=5\n",
    ")\n",
    "scores"
   ]
  },
  {
   "cell_type": "markdown",
   "metadata": {},
   "source": [
    "**Only convergence for small `C`**"
   ]
  },
  {
   "cell_type": "code",
   "execution_count": null,
   "metadata": {},
   "outputs": [],
   "source": [
    "from sklearn.model_selection import GridSearchCV\n",
    "\n",
    "param_grid = {\n",
    "    'C': np.logspace(-10, -6, num=5)\n",
    "}\n",
    "\n",
    "mod = GridSearchCV(\n",
    "    reg,\n",
    "    param_grid,\n",
    "    cv=5,\n",
    "    return_train_score=True,\n",
    "    iid=False,\n",
    ")\n",
    "\n",
    "mod.fit(hnmr_spectra_reduced, target['y'])"
   ]
  }
 ],
 "metadata": {
  "kernelspec": {
   "display_name": "Python 3",
   "language": "python",
   "name": "python3"
  },
  "language_info": {
   "codemirror_mode": {
    "name": "ipython",
    "version": 3
   },
   "file_extension": ".py",
   "mimetype": "text/x-python",
   "name": "python",
   "nbconvert_exporter": "python",
   "pygments_lexer": "ipython3",
   "version": "3.7.5"
  }
 },
 "nbformat": 4,
 "nbformat_minor": 2
}
