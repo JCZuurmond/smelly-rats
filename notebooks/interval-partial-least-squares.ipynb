{
 "cells": [
  {
   "cell_type": "code",
   "execution_count": null,
   "metadata": {},
   "outputs": [],
   "source": [
    "%matplotlib inline\n",
    "%load_ext autoreload\n",
    "%autoreload 2"
   ]
  },
  {
   "cell_type": "markdown",
   "metadata": {},
   "source": [
    "# iPLS\n",
    "\n",
    "This notebook will implement interval partial least squares."
   ]
  },
  {
   "cell_type": "code",
   "execution_count": null,
   "metadata": {},
   "outputs": [],
   "source": [
    "import numpy as np\n",
    "import pandas as pd\n",
    "from matplotlib import pyplot as plt\n",
    "\n",
    "import smelly_rats"
   ]
  },
  {
   "cell_type": "markdown",
   "metadata": {},
   "source": [
    "# Loading the data"
   ]
  },
  {
   "cell_type": "code",
   "execution_count": null,
   "metadata": {},
   "outputs": [],
   "source": [
    "xl = pd.ExcelFile('../data/onions.xls')"
   ]
  },
  {
   "cell_type": "code",
   "execution_count": null,
   "metadata": {},
   "outputs": [],
   "source": [
    "hnmr_spectra = (\n",
    "    pd.read_excel(xl, sheet_name=0, index_col=0)\n",
    "    .rename(columns=lambda col: col.replace(\"'\", \"\"))\n",
    ")\n",
    "print('HNMR spectra shape:', hnmr_spectra.shape)\n",
    "hnmr_spectra.head()"
   ]
  },
  {
   "cell_type": "code",
   "execution_count": null,
   "metadata": {},
   "outputs": [],
   "source": [
    "target = pd.read_excel(xl, sheet_name=1, usecols=range(10, 15))\n",
    "print(target.shape)\n",
    "target.head()"
   ]
  },
  {
   "cell_type": "markdown",
   "metadata": {},
   "source": [
    "# Interval partial leas squares"
   ]
  },
  {
   "cell_type": "code",
   "execution_count": null,
   "metadata": {},
   "outputs": [],
   "source": [
    "from sklearn.cross_decomposition import PLSRegression\n",
    "from sklearn.metrics import make_scorer\n",
    "from sklearn.model_selection import GridSearchCV\n",
    "from sklearn.pipeline import Pipeline\n",
    "\n",
    "from smelly_rats.preproccessing import ParetoTransformer, ColumnSliceSelector"
   ]
  },
  {
   "cell_type": "code",
   "execution_count": null,
   "metadata": {},
   "outputs": [],
   "source": [
    "def misclassification(y, y_hat):\n",
    "    y = y.values if hasattr(y, 'values') else y\n",
    "    return (y.flatten() != y_hat.flatten().round().astype(int)).sum()\n",
    "misclassification_scorer = make_scorer(misclassification)\n",
    "\n",
    "\n",
    "def rmse(y, y_hat):\n",
    "    y = y.values if hasattr(y, 'values') else y\n",
    "    return np.sqrt(np.square(y.flatten() - y_hat.flatten()).mean())\n",
    "rmse_scorer = make_scorer(rmse)"
   ]
  },
  {
   "cell_type": "code",
   "execution_count": null,
   "metadata": {},
   "outputs": [],
   "source": [
    "num_intervals = 20      # number of spectral intervals\n",
    "\n",
    "mod = Pipeline([\n",
    "    ('scaling', ParetoTransformer()),\n",
    "    ('spectral_band', ColumnSliceSelector(10, 0)),\n",
    "    ('regressor', PLSRegression(n_components=7, scale=False))\n",
    "])\n",
    "\n",
    "intervals = np.linspace(\n",
    "    hnmr_spectra.index.max(), \n",
    "    hnmr_spectra.index.min(), \n",
    "    num_intervals + 1\n",
    ")\n",
    "\n",
    "param_grid = {\n",
    "    'spectral_band': (\n",
    "        [ColumnSliceSelector(start, stop) for start, stop in zip(intervals[:-1], intervals[1:])] \n",
    "        + [ColumnSliceSelector(intervals.max(), intervals.min())]\n",
    "    )\n",
    "}\n",
    "\n",
    "grid = GridSearchCV(\n",
    "    mod,\n",
    "    param_grid,\n",
    "    cv=5,\n",
    "    iid=False,\n",
    "    scoring=rmse_scorer,\n",
    "    return_train_score=True\n",
    ")\n",
    "\n",
    "grid.fit(hnmr_spectra.T, target['y'])"
   ]
  },
  {
   "cell_type": "code",
   "execution_count": null,
   "metadata": {},
   "outputs": [],
   "source": [
    "fig, axes = plt.subplots(2, figsize=(16, 16))\n",
    "\n",
    "cv_results = (\n",
    "    pd.DataFrame(grid.cv_results_)\n",
    "    .assign(start=lambda df: [row['spectral_band'].start for row in df['params']],\n",
    "            stop=lambda df: [row['spectral_band'].stop for row in df['params']])\n",
    ")\n",
    "\n",
    "for ax, train_test in zip(axes, ('train', 'test')):\n",
    "    global_score = (\n",
    "        cv_results\n",
    "        .loc[lambda df: df['start'] == df['start'].max()]\n",
    "        .loc[lambda df: df['stop'] == df['stop'].min()]\n",
    "        [f'mean_{train_test}_score']\n",
    "        .values[0]\n",
    "    )\n",
    "    \n",
    "    for _, row in cv_results.iterrows():\n",
    "        start = row['start']\n",
    "        stop = row['stop']\n",
    "        height = row[f'mean_{train_test}_score']\n",
    "        yerr = row[f'std_{train_test}_score']\n",
    "\n",
    "        if start == intervals.max() and stop == intervals.min():        # global\n",
    "            ax.axhline(height, linestyle='--', color='black', alpha=0.8)\n",
    "            ax.axhline(height - yerr, linestyle='-.', color='black', alpha=0.8)\n",
    "            ax.axhline(height + yerr, linestyle='-.', color='black', alpha=0.8)\n",
    "        else:                                                          # interval\n",
    "            alpha = 0.3 if height > global_score else 0.8\n",
    "            ax.bar(\n",
    "                stop, \n",
    "                height=height, \n",
    "                width=(start - stop), \n",
    "                align='edge', \n",
    "                color='grey',\n",
    "                alpha=alpha,\n",
    "                edgecolor='black',\n",
    "                yerr=yerr,\n",
    "                capsize=7,\n",
    "            )\n",
    "\n",
    "    # Also plot spectra for clarity\n",
    "    plotr = (\n",
    "        hnmr_spectra\n",
    "        .mean(axis=1)\n",
    "        .transform(lambda series: series / series.max())\n",
    "        .transform(lambda series: series * cv_results[f'mean_{train_test}_score'].max())\n",
    "    )\n",
    "    plotr.plot(ax=ax, color='black')\n",
    "\n",
    "    ax.set_xlim([intervals.max(), intervals.min()])\n",
    "    if ax == axes[-1]:\n",
    "        ax.set_xlabel('ppm')\n",
    "    else:\n",
    "        ax.set_xlabel('')\n",
    "    ax.set_ylabel('RMSECV')\n",
    "    ax.set_xticks(np.arange(np.ceil(intervals.min()), np.ceil(intervals.max())))\n",
    "    ax.set_title(f'{train_test} data')\n",
    "    \n",
    "fig.suptitle(f'Interval PLS on the H NMR spectra with {num_intervals} spectral bands.')\n",
    "# fig.tight_layout();"
   ]
  }
 ],
 "metadata": {
  "kernelspec": {
   "display_name": "Python 3",
   "language": "python",
   "name": "python3"
  },
  "language_info": {
   "codemirror_mode": {
    "name": "ipython",
    "version": 3
   },
   "file_extension": ".py",
   "mimetype": "text/x-python",
   "name": "python",
   "nbconvert_exporter": "python",
   "pygments_lexer": "ipython3",
   "version": "3.7.5"
  }
 },
 "nbformat": 4,
 "nbformat_minor": 2
}
